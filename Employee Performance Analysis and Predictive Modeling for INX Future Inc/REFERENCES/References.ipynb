{
 "cells": [
  {
   "cell_type": "markdown",
   "id": "1768f924-e73c-4dfc-ae0c-4ade0f1b169d",
   "metadata": {},
   "source": [
    "# Project Data: \n",
    "The employee performance date of INX Future Inc. can be downloads from below link. http://data.iabac.org/exam/p2/data/INX_Future_Inc_Employee_Performance_CDS_Project2_Data_V1.8 .xls"
   ]
  },
  {
   "cell_type": "markdown",
   "id": "086e00b2-31ad-4758-bc90-8e0999455878",
   "metadata": {},
   "source": [
    "# External Libraries:\n",
    "- scikit-learn (https://scikit-learn.org/)\n",
    "- XGBoost (https://xgboost.readthedocs.io/)\n",
    "- Pandas (https://pandas.pydata.org/)\n"
   ]
  },
  {
   "cell_type": "markdown",
   "id": "df915695-0d83-4f14-8f14-9e1ded14f10d",
   "metadata": {},
   "source": [
    "# User Manual  \n",
    "Environment Setup To set up the environment, run the following:\n",
    "pip install -r requirements.txt\n",
    "### Running the Project\n",
    "1.\tRun the data processing script\n",
    "2.\tTrain the model:\n",
    "### Outputs\n",
    "3.\tThe outputs of the model can be found in the `source_code-predict` directory.\n",
    "### License\n",
    "4.\tThe project is licensed under the MIT License.\n",
    "\n",
    "### This project uses the following licenses:\n",
    "- scikit-learn: BSD-3-Clause License\n",
    "- XGBoost: Apache-2.0 License\n",
    "- Pandas: BSD-3-Clause License\n",
    "\n",
    "# Visualization Tools Used\n",
    "### Matplotlib\n",
    "Official Documentation: https://matplotlib.org/stable/contents.html\n",
    "### Seaborn\n",
    "Official Documentation: https://seaborn.pydata.org/\n"
   ]
  },
  {
   "cell_type": "code",
   "execution_count": null,
   "id": "02479e01-992f-403c-af81-b24ed1c61b2a",
   "metadata": {},
   "outputs": [],
   "source": []
  }
 ],
 "metadata": {
  "kernelspec": {
   "display_name": "Python 3 (ipykernel)",
   "language": "python",
   "name": "python3"
  },
  "language_info": {
   "codemirror_mode": {
    "name": "ipython",
    "version": 3
   },
   "file_extension": ".py",
   "mimetype": "text/x-python",
   "name": "python",
   "nbconvert_exporter": "python",
   "pygments_lexer": "ipython3",
   "version": "3.11.7"
  }
 },
 "nbformat": 4,
 "nbformat_minor": 5
}
